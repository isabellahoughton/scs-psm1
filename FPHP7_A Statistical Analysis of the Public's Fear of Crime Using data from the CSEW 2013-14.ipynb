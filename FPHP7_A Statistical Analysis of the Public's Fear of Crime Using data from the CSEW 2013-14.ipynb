{
 "cells": [
  {
   "cell_type": "markdown",
   "metadata": {},
   "source": [
    "<div style=\"text-align: right\"> FPHP7 </div>"
   ]
  },
  {
   "cell_type": "markdown",
   "metadata": {},
   "source": [
    "# A Statistical Analysis of the Public's Fear of Crime Using Data from the *Crime Survey for England and Wales, 2013/14*"
   ]
  },
  {
   "cell_type": "markdown",
   "metadata": {},
   "source": [
    "Introduction\n",
    "<br>\n",
    "The issue of a public individual's fear of being a victim of a criminal act such as a mugging, rape or burglary has come to the attention of policymakers often. The following report, analysing data from a 2013-14 face-to-face victimisation survey which asked respondents about criminal experiences in the 12 months prior to the survey, shows the relationships between sex, ethnic group and lifestyle choices of the respondents, and their worries about being potential victims of crime in the future. The aim of this analysis is to provide policymakers with the data necessary to influence future legislations, and quell any misconceptions that the public or media may have of the general fear of crime in England and Wales."
   ]
  },
  {
   "cell_type": "code",
   "execution_count": 210,
   "metadata": {},
   "outputs": [],
   "source": [
    "# Import Pandas, Numpy, Scipystats and Matplotlib to assist statistical analysis.\n",
    "import pandas as pd\n",
    "import numpy as np\n",
    "import scipy.stats as ss\n",
    "import matplotlib.pyplot as plt\n",
    "%matplotlib inline"
   ]
  },
  {
   "cell_type": "code",
   "execution_count": 211,
   "metadata": {},
   "outputs": [],
   "source": [
    "# Import the data from the Crime Survey for England and Wales, 2013/14.\n",
    "csew = pd.read_stata('Desktop/SECUPSM1/tutorials/data/csew1314_teaching_cleaned.dta')"
   ]
  },
  {
   "cell_type": "markdown",
   "metadata": {},
   "source": [
    "In order to show the extent of the public's fear of crime, a graph can be plotted to show the variable 'worryx' which corresponds to 'Worry about being a victim of crime', where a higher score denotes a higher level of worry. The data comprising 'worryx' is derived from the variables:\n",
    "<br>\n",
    "**Wburgl: Worry about having your home broken into.\n",
    "<br>\n",
    "Wmugged: Worry about being mugged.\n",
    "<br>\n",
    "Wraped: Worry about being raped.\n",
    "<br>\n",
    "Wattack: Worry about being physically attacked by a stranger.\n",
    "<br>\n",
    "Wraceatt: Worry about being attacked by a stranger because of skin colour, ethnic origin or religion.**"
   ]
  },
  {
   "cell_type": "code",
   "execution_count": 212,
   "metadata": {},
   "outputs": [],
   "source": [
    "# Assign the name 'worry' to the column 'worryx'.\n",
    "worry = csew['worryx']"
   ]
  },
  {
   "cell_type": "markdown",
   "metadata": {},
   "source": [
    "**Figure 1. - Histogram displaying the levels of worry about being a victim of crime in the population.**"
   ]
  },
  {
   "cell_type": "code",
   "execution_count": 225,
   "metadata": {},
   "outputs": [
    {
     "data": {
      "text/plain": [
       "<matplotlib.axes._subplots.AxesSubplot at 0x1a1e775d90>"
      ]
     },
     "execution_count": 225,
     "metadata": {},
     "output_type": "execute_result"
    },
    {
     "data": {
      "image/png": "[encoded data removed]",
      "text/plain": [
       "<Figure size 432x288 with 1 Axes>"
      ]
     },
     "metadata": {
      "needs_background": "light"
     },
     "output_type": "display_data"
    }
   ],
   "source": [
    "# Plot a histogram displaying the level of worry about being a victim of crime in the general population.\n",
    "worry.plot.hist(bins=30, title='Level of worry about being a victim of crime in the general population', xlim=(-3, 1.5), color='purple')"
   ]
  },
  {
   "cell_type": "markdown",
   "metadata": {},
   "source": [
    "As shown by Figure 1., members of the public are only slightly worried about being victims of crime. A majority of people expressed the fact that they were ‘not very worried’ with a significant amount stating that they were ‘not at all worried’ about being victims of crime. This can be explained by the histogram data forming a cluster around the 0.0 to 0.5 values which show that the combined level of worry from the variables making up ‘worryx’ is quite low.\n",
    "<br>\n",
    "<br>\n",
    "The following value counts display people’s specific answers to various questions asking about their worry about being victims of certain crimes."
   ]
  },
  {
   "cell_type": "code",
   "execution_count": 226,
   "metadata": {},
   "outputs": [
    {
     "data": {
      "text/plain": [
       "Not very worried      4150\n",
       "Fairly worried        2302\n",
       "Not at all worried    1338\n",
       "Very worried           961\n",
       "Don't know               3\n",
       "(Not applicable)         2\n",
       "Name: wburgl, dtype: int64"
      ]
     },
     "execution_count": 226,
     "metadata": {},
     "output_type": "execute_result"
    }
   ],
   "source": [
    "# Value counts of 'How worried about having your home broken into'.\n",
    "csew['wburgl'].value_counts()"
   ]
  },
  {
   "cell_type": "code",
   "execution_count": 227,
   "metadata": {},
   "outputs": [
    {
     "data": {
      "text/plain": [
       "Not very worried      4247\n",
       "Not at all worried    2055\n",
       "Fairly worried        1650\n",
       "Very worried           752\n",
       "Don't know              38\n",
       "(Not applicable)        14\n",
       "Name: wmugged, dtype: int64"
      ]
     },
     "execution_count": 227,
     "metadata": {},
     "output_type": "execute_result"
    }
   ],
   "source": [
    "# Value counts of 'How worried about being mugged and robbed'.\n",
    "csew['wmugged'].value_counts()"
   ]
  },
  {
   "cell_type": "code",
   "execution_count": 228,
   "metadata": {},
   "outputs": [
    {
     "data": {
      "text/plain": [
       "Not at all worried    4249\n",
       "Not very worried      2781\n",
       "Very worried           705\n",
       "Fairly worried         685\n",
       "(Not applicable)       286\n",
       "Don't know              44\n",
       "Refused                  6\n",
       "Name: wraped, dtype: int64"
      ]
     },
     "execution_count": 228,
     "metadata": {},
     "output_type": "execute_result"
    }
   ],
   "source": [
    "# Value counts of 'How worried about being raped'.\n",
    "csew['wraped'].value_counts()"
   ]
  },
  {
   "cell_type": "code",
   "execution_count": 229,
   "metadata": {},
   "outputs": [
    {
     "data": {
      "text/plain": [
       "Not very worried      4132\n",
       "Not at all worried    2260\n",
       "Fairly worried        1565\n",
       "Very worried           750\n",
       "Don't know              39\n",
       "(Not applicable)         9\n",
       "Refused                  1\n",
       "Name: wattack, dtype: int64"
      ]
     },
     "execution_count": 229,
     "metadata": {},
     "output_type": "execute_result"
    }
   ],
   "source": [
    "# Value counts of 'How worried about being physically attacked by strangers'.\n",
    "csew['wattack'].value_counts()"
   ]
  },
  {
   "cell_type": "code",
   "execution_count": 230,
   "metadata": {},
   "outputs": [
    {
     "data": {
      "text/plain": [
       "Not at all worried    5021\n",
       "Not very worried      2522\n",
       "Fairly worried         546\n",
       "Very worried           348\n",
       "(Not applicable)       280\n",
       "Don't know              39\n",
       "Name: wraceatt, dtype: int64"
      ]
     },
     "execution_count": 230,
     "metadata": {},
     "output_type": "execute_result"
    }
   ],
   "source": [
    "# Value counts of 'How worried about being attacked because of skin colour, ethnic origin or religion'.\n",
    "csew['wraceatt'].value_counts()"
   ]
  },
  {
   "cell_type": "markdown",
   "metadata": {},
   "source": [
    "Examining the tables above, most survey respondents were worried about their homes being burgled: 10.9% of respondents said that they were ‘very worried’ and 26.2% said that they were ‘fairly worried’ that their homes would be broken into, as opposed to 8.6% of respondents ‘very worried’ and 18.8% ‘fairly worried’ that they would be mugged on the street. Reasons for this are complicated: there is a possibility that respondents fear their homes being burgled more than being mugged on the street because it can be assumed that objects of greater value can be stolen from a home compared to objects on one’s person in the street. Solutions to this issue are suggested to be directed at increased home security such as increased availability of alarm systems and spreading awareness on the importance of locking doors when leaving the residence, as well as not disclosing long periods of time that the home will be left unoccupied.\n",
    "<br>\n",
    "<br>\n",
    "The relationship between males and females and their worry about being a victim of crime can also be analysed:\n",
    "<br>\n",
    "<br>\n",
    "**Figure 2. - Graph showing the differences between male and female worry about being a victim of crime.**"
   ]
  },
  {
   "cell_type": "code",
   "execution_count": 231,
   "metadata": {
    "scrolled": true
   },
   "outputs": [],
   "source": [
    "# Assign the name 'respondent_male' to the data labelled 'Male' in the column 'sex', and the name 'respondent_female' to the data labelled 'Female' in the same column.\n",
    "respondent_male = csew[csew['sex'] == 'Male']['worryx']\n",
    "respondent_female = csew[csew['sex'] == 'Female']['worryx']"
   ]
  },
  {
   "cell_type": "code",
   "execution_count": 232,
   "metadata": {},
   "outputs": [
    {
     "data": {
      "text/plain": [
       "<matplotlib.axes._subplots.AxesSubplot at 0x1a1e79fed0>"
      ]
     },
     "execution_count": 232,
     "metadata": {},
     "output_type": "execute_result"
    },
    {
     "data": {
      "image/png": "[encoded data removed]",
      "text/plain": [
       "<Figure size 432x288 with 1 Axes>"
      ]
     },
     "metadata": {
      "needs_background": "light"
     },
     "output_type": "display_data"
    }
   ],
   "source": [
    "# Plot a graph of male respondents and their worry about being a victim of crime against female respondents.\n",
    "respondent_male.plot.kde(label='Male', legend=True, color='green')\n",
    "respondent_female.plot.kde(label='Female', legend=True, color='purple')"
   ]
  },
  {
   "cell_type": "code",
   "execution_count": 233,
   "metadata": {},
   "outputs": [
    {
     "data": {
      "text/plain": [
       "Ttest_indResult(statistic=22.551948819863235, pvalue=2.623493094083113e-109)"
      ]
     },
     "execution_count": 233,
     "metadata": {},
     "output_type": "execute_result"
    }
   ],
   "source": [
    "# Perform an unpaired-samples t-test to determine if there is a difference between male and female worry.\n",
    "ss.ttest_ind(respondent_male, respondent_female, nan_policy='omit')"
   ]
  },
  {
   "cell_type": "markdown",
   "metadata": {},
   "source": [
    "Figure 2. shows a graph where male and female worries about being crime victims are plotted together. As determined by Figure 1., both genders do not have a large amount of worry, however there is a difference between genders: males tend to have slightly more worry about being a victim of crime. The subsequent unpaired-samples t-test performed displays a p-value statistic which is smaller than 0.05, indicating a difference between sexes. The increase in male worry could be due to multiple factors, possibly more involvement in gang violence or pub fights.\n",
    "<br>\n",
    "<br>\n",
    "Picking the worry of being a victim of rape, the differences between men and women can be examined in greater detail."
   ]
  },
  {
   "cell_type": "code",
   "execution_count": 222,
   "metadata": {},
   "outputs": [
    {
     "data": {
      "text/html": [
       "<div>\n",
       "<style scoped>\n",
       "    .dataframe tbody tr th:only-of-type {\n",
       "        vertical-align: middle;\n",
       "    }\n",
       "\n",
       "    .dataframe tbody tr th {\n",
       "        vertical-align: top;\n",
       "    }\n",
       "\n",
       "    .dataframe thead th {\n",
       "        text-align: right;\n",
       "    }\n",
       "</style>\n",
       "<table border=\"1\" class=\"dataframe\">\n",
       "  <thead>\n",
       "    <tr style=\"text-align: right;\">\n",
       "      <th>wraped</th>\n",
       "      <th>Very worried</th>\n",
       "      <th>Fairly worried</th>\n",
       "      <th>Not very worried</th>\n",
       "      <th>Not at all worried</th>\n",
       "    </tr>\n",
       "    <tr>\n",
       "      <th>sex</th>\n",
       "      <th></th>\n",
       "      <th></th>\n",
       "      <th></th>\n",
       "      <th></th>\n",
       "    </tr>\n",
       "  </thead>\n",
       "  <tbody>\n",
       "    <tr>\n",
       "      <td>Male</td>\n",
       "      <td>112</td>\n",
       "      <td>72</td>\n",
       "      <td>709</td>\n",
       "      <td>2810</td>\n",
       "    </tr>\n",
       "    <tr>\n",
       "      <td>Female</td>\n",
       "      <td>593</td>\n",
       "      <td>613</td>\n",
       "      <td>2072</td>\n",
       "      <td>1439</td>\n",
       "    </tr>\n",
       "  </tbody>\n",
       "</table>\n",
       "</div>"
      ],
      "text/plain": [
       "wraped  Very worried  Fairly worried  Not very worried  Not at all worried\n",
       "sex                                                                       \n",
       "Male             112              72               709                2810\n",
       "Female           593             613              2072                1439"
      ]
     },
     "execution_count": 222,
     "metadata": {},
     "output_type": "execute_result"
    }
   ],
   "source": [
    "# Form a contingency table, crossing sex of respondent and worry of being a victim of rape, removing irrelevant columns from the data.\n",
    "contingencytable1 = pd.crosstab(csew['sex'], csew['wraped'])\n",
    "contingencytable1 = contingencytable1.drop(columns=[\"(Not applicable)\",\"Don't know\", \"Refused\"])\n",
    "contingencytable1"
   ]
  },
  {
   "cell_type": "code",
   "execution_count": 223,
   "metadata": {},
   "outputs": [
    {
     "data": {
      "text/plain": [
       "(1769.385148867118,\n",
       " 0.0,\n",
       " 3,\n",
       " array([[ 310.04928741,  301.25356295, 1223.04548694, 1868.65166271],\n",
       "        [ 394.95071259,  383.74643705, 1557.95451306, 2380.34833729]]))"
      ]
     },
     "execution_count": 223,
     "metadata": {},
     "output_type": "execute_result"
    }
   ],
   "source": [
    "# Calculate the Chi-squared statistic for the above contingency table.\n",
    "ss.chi2_contingency(contingencytable1)"
   ]
  },
  {
   "cell_type": "markdown",
   "metadata": {},
   "source": [
    "The Chi-squared statistic calculated for the first contingency table (0.0) is extremely small, meaning that the data would be very unlikely under the null hypothesis, thus we reject it. The null hypothesis states that there is no relationship between sex and worry about being a victim of rape, which we dismiss. Moreover, the data table shows that 4.9% of males were ‘very’ or ‘fairly worried’ about being a victim of rape, compared to 25.5% of females. The increased fear of rape in women can be attributed to the fact that it is far more common to see cases in the media reporting sexual assault towards women, creating an atmosphere of fear. Moreover, the fear of being sexually assaulted has been found to have negative impacts on women’s lives such as reducing their mobility and leading to avoidance of behaviours such as walking home alone at night (Keane, 1998).\n",
    "<br>\n",
    "<br>\n",
    "The relationship between how often people frequent nightclubs can also be compared to how safe they feel walking home in the dark."
   ]
  },
  {
   "cell_type": "code",
   "execution_count": 234,
   "metadata": {},
   "outputs": [
    {
     "data": {
      "text/html": [
       "<div>\n",
       "<style scoped>\n",
       "    .dataframe tbody tr th:only-of-type {\n",
       "        vertical-align: middle;\n",
       "    }\n",
       "\n",
       "    .dataframe tbody tr th {\n",
       "        vertical-align: top;\n",
       "    }\n",
       "\n",
       "    .dataframe thead th {\n",
       "        text-align: right;\n",
       "    }\n",
       "</style>\n",
       "<table border=\"1\" class=\"dataframe\">\n",
       "  <thead>\n",
       "    <tr style=\"text-align: right;\">\n",
       "      <th>club</th>\n",
       "      <th>None</th>\n",
       "      <th>Between 1 and 3 times (Less than once a week)</th>\n",
       "      <th>Between 4 and 8 times (Once to twice a week)</th>\n",
       "    </tr>\n",
       "    <tr>\n",
       "      <th>walkdark</th>\n",
       "      <th></th>\n",
       "      <th></th>\n",
       "      <th></th>\n",
       "    </tr>\n",
       "  </thead>\n",
       "  <tbody>\n",
       "    <tr>\n",
       "      <td>Very safe</td>\n",
       "      <td>2386</td>\n",
       "      <td>193</td>\n",
       "      <td>36</td>\n",
       "    </tr>\n",
       "    <tr>\n",
       "      <td>Fairly safe</td>\n",
       "      <td>2942</td>\n",
       "      <td>249</td>\n",
       "      <td>31</td>\n",
       "    </tr>\n",
       "    <tr>\n",
       "      <td>A bit unsafe</td>\n",
       "      <td>1499</td>\n",
       "      <td>108</td>\n",
       "      <td>15</td>\n",
       "    </tr>\n",
       "    <tr>\n",
       "      <td>Very unsafe</td>\n",
       "      <td>792</td>\n",
       "      <td>25</td>\n",
       "      <td>5</td>\n",
       "    </tr>\n",
       "  </tbody>\n",
       "</table>\n",
       "</div>"
      ],
      "text/plain": [
       "club          None  Between 1 and 3 times (Less than once a week)  \\\n",
       "walkdark                                                            \n",
       "Very safe     2386                                            193   \n",
       "Fairly safe   2942                                            249   \n",
       "A bit unsafe  1499                                            108   \n",
       "Very unsafe    792                                             25   \n",
       "\n",
       "club          Between 4 and 8 times (Once to twice a week)  \n",
       "walkdark                                                    \n",
       "Very safe                                               36  \n",
       "Fairly safe                                             31  \n",
       "A bit unsafe                                            15  \n",
       "Very unsafe                                              5  "
      ]
     },
     "execution_count": 234,
     "metadata": {},
     "output_type": "execute_result"
    }
   ],
   "source": [
    "# Form a contingency table, crossing how often a respondent goes to nightclubs with how safe they feel when walking home after dark, removing irrelevant columns and rows from the data.\n",
    "contingencytable2 = pd.crosstab(csew['walkdark'], csew['club'])\n",
    "contingencytable2 = contingencytable2.drop(columns=[\"Refused\", \"More than 12 times (Almost every day)\", \"Between 9 and 12 times (About 3 times a week)\"])\n",
    "contingencytable2 = contingencytable2.drop(index=[\"Refused\", \"Don't know\"])\n",
    "contingencytable2"
   ]
  },
  {
   "cell_type": "code",
   "execution_count": 235,
   "metadata": {},
   "outputs": [
    {
     "data": {
      "text/plain": [
       "(28.504273042753717,\n",
       " 7.54866291897053e-05,\n",
       " 6,\n",
       " array([[2405.9515759 ,  181.57529284,   27.47313126],\n",
       "        [2964.42676005,  223.72298032,   33.85025963],\n",
       "        [1492.33401763,  112.6252868 ,   17.04069557],\n",
       "        [ 756.28764642,   57.07644004,    8.63591354]]))"
      ]
     },
     "execution_count": 235,
     "metadata": {},
     "output_type": "execute_result"
    }
   ],
   "source": [
    "# Calculate the Chi-squared statistic for the above contingency table.\n",
    "ss.chi2_contingency(contingencytable2)"
   ]
  },
  {
   "cell_type": "markdown",
   "metadata": {},
   "source": [
    "Again, since the p-value is lower than 0.05, we reject the null hypothesis and accept the alternative one, meaning that the variables are not independent. There is in fact a relationship between how often people go to nightclubs and how safe they feel walking home after dark. Policies that can be implemented to tackle this problem should focus on factors that make a journey home safer - adequate street lighting, raising awareness of various apps that can be used which alert emergency services if an individual signifies that they are in danger. \n",
    "<br>\n",
    "<br>\n",
    "When looking at ethnic groups, an ANOVA test can be performed.\n",
    "<br>\n",
    "<br>\n",
    "**Figure 3. - Boxplot grouped by ethnic groups.**"
   ]
  },
  {
   "cell_type": "code",
   "execution_count": 240,
   "metadata": {},
   "outputs": [
    {
     "data": {
      "text/plain": [
       "<matplotlib.axes._subplots.AxesSubplot at 0x1a1ed4b650>"
      ]
     },
     "execution_count": 240,
     "metadata": {},
     "output_type": "execute_result"
    },
    {
     "data": {
      "image/png": "[encoded data removed]",
      "text/plain": [
       "<Figure size 432x288 with 1 Axes>"
      ]
     },
     "metadata": {
      "needs_background": "light"
     },
     "output_type": "display_data"
    }
   ],
   "source": [
    "# Plot a boxplot comparing the means of how worried various ethnic groups are about being victims of crime.\n",
    "csew.boxplot('worryx', by='ethgrp2a', rot=25,)"
   ]
  },
  {
   "cell_type": "code",
   "execution_count": 241,
   "metadata": {},
   "outputs": [],
   "source": [
    "# Select cases where 'ethnic group = White', save as a new DataFrame, compare it with the 'worryx' column, then remove all missing values with the dropna() command.\n",
    "worry_white = csew[csew['ethgrp2a'] == 'White']['worryx'].dropna()\n",
    "\n",
    "# Repeat the above process for all other ethnic groups.\n",
    "worry_mixed = csew[csew['ethgrp2a'] == 'Mixed']['worryx'].dropna()\n",
    "worry_aoab = csew[csew['ethgrp2a'] == 'Asian or Asian British']['worryx'].dropna()\n",
    "worry_bobb = csew[csew['ethgrp2a'] == 'Black or Black British']['worryx'].dropna()\n",
    "worry_coo = csew[csew['ethgrp2a'] == 'Chinese or other']['worryx'].dropna()"
   ]
  },
  {
   "cell_type": "code",
   "execution_count": 242,
   "metadata": {},
   "outputs": [
    {
     "data": {
      "text/plain": [
       "F_onewayResult(statistic=86.884723752212, pvalue=2.0771116436549114e-72)"
      ]
     },
     "execution_count": 242,
     "metadata": {},
     "output_type": "execute_result"
    }
   ],
   "source": [
    "# Perform an ANOVA test with the above DataFrames.\n",
    "ss.f_oneway(worry_white, worry_mixed, worry_aoab, worry_bobb, worry_coo)"
   ]
  },
  {
   "cell_type": "markdown",
   "metadata": {},
   "source": [
    "Differences between the ethnic groups is clearly displayed in Figure 3., where it can be clearly identified that ‘White’ people worry far less about being victims of crime, as opposed to ‘Asian or Asian British’ people who display the highest rate of worry. The ANOVA test can be performed in order to determine whether the mean is the same for all ethnic groups. The calculated statistic is once again smaller than 0.05, meaning that the means are different for different ethnic groups i.e. the levels of worry vary. "
   ]
  },
  {
   "cell_type": "code",
   "execution_count": 243,
   "metadata": {},
   "outputs": [
    {
     "data": {
      "text/html": [
       "<div>\n",
       "<style scoped>\n",
       "    .dataframe tbody tr th:only-of-type {\n",
       "        vertical-align: middle;\n",
       "    }\n",
       "\n",
       "    .dataframe tbody tr th {\n",
       "        vertical-align: top;\n",
       "    }\n",
       "\n",
       "    .dataframe thead th {\n",
       "        text-align: right;\n",
       "    }\n",
       "</style>\n",
       "<table border=\"1\" class=\"dataframe\">\n",
       "  <thead>\n",
       "    <tr style=\"text-align: right;\">\n",
       "      <th>wraceatt</th>\n",
       "      <th>Very worried</th>\n",
       "      <th>Fairly worried</th>\n",
       "      <th>Not very worried</th>\n",
       "      <th>Not at all worried</th>\n",
       "    </tr>\n",
       "    <tr>\n",
       "      <th>ethgrp2a</th>\n",
       "      <th></th>\n",
       "      <th></th>\n",
       "      <th></th>\n",
       "      <th></th>\n",
       "    </tr>\n",
       "  </thead>\n",
       "  <tbody>\n",
       "    <tr>\n",
       "      <td>White</td>\n",
       "      <td>210</td>\n",
       "      <td>381</td>\n",
       "      <td>2174</td>\n",
       "      <td>4832</td>\n",
       "    </tr>\n",
       "    <tr>\n",
       "      <td>Mixed</td>\n",
       "      <td>10</td>\n",
       "      <td>7</td>\n",
       "      <td>33</td>\n",
       "      <td>28</td>\n",
       "    </tr>\n",
       "    <tr>\n",
       "      <td>Asian or Asian British</td>\n",
       "      <td>77</td>\n",
       "      <td>98</td>\n",
       "      <td>169</td>\n",
       "      <td>87</td>\n",
       "    </tr>\n",
       "    <tr>\n",
       "      <td>Black or Black British</td>\n",
       "      <td>37</td>\n",
       "      <td>39</td>\n",
       "      <td>100</td>\n",
       "      <td>50</td>\n",
       "    </tr>\n",
       "    <tr>\n",
       "      <td>Chinese or other</td>\n",
       "      <td>14</td>\n",
       "      <td>20</td>\n",
       "      <td>45</td>\n",
       "      <td>22</td>\n",
       "    </tr>\n",
       "  </tbody>\n",
       "</table>\n",
       "</div>"
      ],
      "text/plain": [
       "wraceatt                Very worried  Fairly worried  Not very worried  \\\n",
       "ethgrp2a                                                                 \n",
       "White                            210             381              2174   \n",
       "Mixed                             10               7                33   \n",
       "Asian or Asian British            77              98               169   \n",
       "Black or Black British            37              39               100   \n",
       "Chinese or other                  14              20                45   \n",
       "\n",
       "wraceatt                Not at all worried  \n",
       "ethgrp2a                                    \n",
       "White                                 4832  \n",
       "Mixed                                   28  \n",
       "Asian or Asian British                  87  \n",
       "Black or Black British                  50  \n",
       "Chinese or other                        22  "
      ]
     },
     "execution_count": 243,
     "metadata": {},
     "output_type": "execute_result"
    }
   ],
   "source": [
    "# Form a contingency table, crossing ethnic group with worry about being a victim of a racially motivated attack, removing irrelevant columns from the data.\n",
    "contingencytable3 = pd.crosstab(csew['ethgrp2a'], csew['wraceatt'])\n",
    "contingencytable3 = contingencytable3.drop(columns=[\"(Not applicable)\",\"Don't know\"])\n",
    "contingencytable3"
   ]
  },
  {
   "cell_type": "code",
   "execution_count": 244,
   "metadata": {},
   "outputs": [
    {
     "data": {
      "text/plain": [
       "(882.9421427714443,\n",
       " 2.641284749391911e-181,\n",
       " 12,\n",
       " array([[3.13501245e+02, 4.90971778e+02, 2.27108230e+03, 4.52144468e+03],\n",
       "        [3.21878335e+00, 5.04091071e+00, 2.33176805e+01, 4.64226254e+01],\n",
       "        [1.77858413e+01, 2.78542630e+01, 1.28845132e+02, 2.56514763e+02],\n",
       "        [9.32621843e+00, 1.46057156e+01, 6.75614846e+01, 1.34506581e+02],\n",
       "        [4.16791178e+00, 6.52733310e+00, 3.01934069e+01, 6.01113483e+01]]))"
      ]
     },
     "execution_count": 244,
     "metadata": {},
     "output_type": "execute_result"
    }
   ],
   "source": [
    "# Calculate the Chi-squared statistic for the above contingency table.\n",
    "ss.chi2_contingency(contingencytable3)"
   ]
  },
  {
   "cell_type": "markdown",
   "metadata": {},
   "source": [
    "With regard to ethnic groups worrying about being victims of racially motivated attacks, a Chi-squared test carried out displays an extremely small p-value, suggesting that there is a relationship between ethnic group and worry about being a victim of a racially motivated attack. ‘White’ people tend to be less worried about being attacked due to their race, whereas ‘Asian or Asian British’ and ‘Black or Black British’ people tended to voice more concerns.\n",
    "<br>\n",
    "<br>\n",
    "Also examined was the relationship between number of children under 16 in the household, and the adult respondent’s fear of burglary.\n"
   ]
  },
  {
   "cell_type": "code",
   "execution_count": 247,
   "metadata": {},
   "outputs": [
    {
     "data": {
      "text/html": [
       "<div>\n",
       "<style scoped>\n",
       "    .dataframe tbody tr th:only-of-type {\n",
       "        vertical-align: middle;\n",
       "    }\n",
       "\n",
       "    .dataframe tbody tr th {\n",
       "        vertical-align: top;\n",
       "    }\n",
       "\n",
       "    .dataframe thead th {\n",
       "        text-align: right;\n",
       "    }\n",
       "</style>\n",
       "<table border=\"1\" class=\"dataframe\">\n",
       "  <thead>\n",
       "    <tr style=\"text-align: right;\">\n",
       "      <th>wburgl</th>\n",
       "      <th>Very worried</th>\n",
       "      <th>Fairly worried</th>\n",
       "      <th>Not very worried</th>\n",
       "      <th>Not at all worried</th>\n",
       "    </tr>\n",
       "    <tr>\n",
       "      <th>nchil</th>\n",
       "      <th></th>\n",
       "      <th></th>\n",
       "      <th></th>\n",
       "      <th></th>\n",
       "    </tr>\n",
       "  </thead>\n",
       "  <tbody>\n",
       "    <tr>\n",
       "      <td>0</td>\n",
       "      <td>679</td>\n",
       "      <td>1630</td>\n",
       "      <td>3057</td>\n",
       "      <td>1064</td>\n",
       "    </tr>\n",
       "    <tr>\n",
       "      <td>1</td>\n",
       "      <td>137</td>\n",
       "      <td>312</td>\n",
       "      <td>482</td>\n",
       "      <td>129</td>\n",
       "    </tr>\n",
       "    <tr>\n",
       "      <td>2</td>\n",
       "      <td>95</td>\n",
       "      <td>251</td>\n",
       "      <td>439</td>\n",
       "      <td>97</td>\n",
       "    </tr>\n",
       "    <tr>\n",
       "      <td>3</td>\n",
       "      <td>39</td>\n",
       "      <td>82</td>\n",
       "      <td>133</td>\n",
       "      <td>35</td>\n",
       "    </tr>\n",
       "    <tr>\n",
       "      <td>4</td>\n",
       "      <td>6</td>\n",
       "      <td>18</td>\n",
       "      <td>32</td>\n",
       "      <td>10</td>\n",
       "    </tr>\n",
       "  </tbody>\n",
       "</table>\n",
       "</div>"
      ],
      "text/plain": [
       "wburgl  Very worried  Fairly worried  Not very worried  Not at all worried\n",
       "nchil                                                                     \n",
       "0                679            1630              3057                1064\n",
       "1                137             312               482                 129\n",
       "2                 95             251               439                  97\n",
       "3                 39              82               133                  35\n",
       "4                  6              18                32                  10"
      ]
     },
     "execution_count": 247,
     "metadata": {},
     "output_type": "execute_result"
    }
   ],
   "source": [
    "# Form a contingency table, crossing ethnic group with worry about being a victim of a racially motivated attack, removing irrelevant columns and rows from the data.\n",
    "contingencytable4 = pd.crosstab(csew['nchil'], csew['wburgl'])\n",
    "contingencytable4 = contingencytable4.drop(columns=[\"(Not applicable)\",\"Don't know\"])\n",
    "contingencytable4 = contingencytable4.drop(index=[5, 6, 7])\n",
    "contingencytable4"
   ]
  },
  {
   "cell_type": "code",
   "execution_count": 249,
   "metadata": {},
   "outputs": [
    {
     "data": {
      "text/plain": [
       "(42.78890405996245,\n",
       " 2.4515455357512247e-05,\n",
       " 12,\n",
       " array([[ 704.37492838, 1689.46831672, 3052.53695428,  983.61980062],\n",
       "        [ 116.11779535,  278.51266185,  503.21760055,  162.15194225],\n",
       "        [  96.61876934,  231.74355449,  418.71502234,  134.92265383],\n",
       "        [  31.658531  ,   75.93411252,  137.19800619,   44.20935029],\n",
       "        [   7.22997594,   17.34135442,   31.33241664,   10.09625301]]))"
      ]
     },
     "execution_count": 249,
     "metadata": {},
     "output_type": "execute_result"
    }
   ],
   "source": [
    "# Calculate the Chi-squared statistic for the above contingency table.\n",
    "ss.chi2_contingency(contingencytable4)"
   ]
  },
  {
   "cell_type": "markdown",
   "metadata": {},
   "source": [
    "The null hypothesis can once again be dismissed - there is a relationship with the amount of children in a household and the adult respondent’s fear of burglary. Families with more children tended to be more fearful of possible break-ins, likely due to the property being larger to accommodate more people, and thus having more items of increased worth. Families also likely feared for the safety of their children if one of them was to come into contact with a burglar by accident.\n",
    "<br>\n",
    "<br>\n",
    "Finally, confidence in the Criminal Justice System can be plotted against people’s worry about being a victim of crime.\n",
    "<br>\n",
    "<br>\n",
    "**Figure 4. - Histogram of confidence in the CJS against worry about being a victim of crime.**"
   ]
  },
  {
   "cell_type": "code",
   "execution_count": 250,
   "metadata": {},
   "outputs": [
    {
     "data": {
      "text/plain": [
       "<matplotlib.axes._subplots.AxesSubplot at 0x1a1f4579d0>"
      ]
     },
     "execution_count": 250,
     "metadata": {},
     "output_type": "execute_result"
    },
    {
     "data": {
      "image/png": "[encoded data removed]",
      "text/plain": [
       "<Figure size 432x288 with 1 Axes>"
      ]
     },
     "metadata": {
      "needs_background": "light"
     },
     "output_type": "display_data"
    }
   ],
   "source": [
    "# Plot a histogram displaying the level of confidence in the Criminal Justice System against the level of worry about being a victim of crime in the general population.\n",
    "csew['confx'].plot.hist(label='Confidence in the Criminal Justice System', legend=True, density=True, alpha=0.3, color='green')\n",
    "csew['worryx'].plot.hist(label='Worry about being a victim of crime', legend=True, density=True, alpha=0.3, color='purple')"
   ]
  },
  {
   "cell_type": "code",
   "execution_count": 251,
   "metadata": {},
   "outputs": [
    {
     "data": {
      "text/plain": [
       "Ttest_relResult(statistic=2.9615149433232566, pvalue=0.0030708493078052527)"
      ]
     },
     "execution_count": 251,
     "metadata": {},
     "output_type": "execute_result"
    }
   ],
   "source": [
    "# Perform a paired-samples t-test to determine if there is a difference between confidence in the Criminal Justice System and level of worry about being a victim of crime.\n",
    "ss.ttest_rel(csew['confx'], csew['worryx'], nan_policy='omit')"
   ]
  },
  {
   "cell_type": "markdown",
   "metadata": {},
   "source": [
    "The paired-samples t-test shows that there is a statistical difference between confidence in the Criminal Justice System and worry about being a victim, suggesting that people who have more faith in the system worry less about being victims of crime as they believe that e.g. people at risk of committing more serious crimes have already been convicted of more minor crimes and thus are less likely to be on the streets, thus they are less worried about being victims of crimes."
   ]
  },
  {
   "cell_type": "markdown",
   "metadata": {},
   "source": [
    "It can be concluded that, despite the general worry in the population being quite low, there are significant statistical relationships between male and female worry of crime, sex and worry about being a victim of rape, ethnic group and general worry as well as worry about being a victim of a racist attack, number of children and fear of being burgled, and confidence in the Criminal Justice System v.s. worrying about being a victim. Policies combatting these fears in society should be directed at increasing safety measures both in households and on the streets, and working towards a more equal society where the rate of racially motivated attacks decreases substantially. "
   ]
  },
  {
   "cell_type": "markdown",
   "metadata": {},
   "source": [
    "**References**\n",
    "<br>\n",
    "Keane, C. (1998). Evaluating the Influence of Fear of Crime as an Environmental Mobility Restrictor on Womens Routine Activities. Environment and Behavior, 30(1), 60–74. doi: 10.1177/0013916598301003"
   ]
  },
  {
   "cell_type": "markdown",
   "metadata": {},
   "source": [
    "wc: 1442"
   ]
  }
 ],
 "metadata": {
  "kernelspec": {
   "display_name": "Python 3",
   "language": "python",
   "name": "python3"
  },
  "language_info": {
   "codemirror_mode": {
    "name": "ipython",
    "version": 3
   },
   "file_extension": ".py",
   "mimetype": "text/x-python",
   "name": "python",
   "nbconvert_exporter": "python",
   "pygments_lexer": "ipython3",
   "version": "3.7.4"
  }
 },
 "nbformat": 4,
 "nbformat_minor": 2
}
